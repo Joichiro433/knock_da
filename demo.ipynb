{
 "cells": [
  {
   "cell_type": "code",
   "execution_count": 1,
   "metadata": {},
   "outputs": [],
   "source": [
    "from typing import *\n",
    "import os\n",
    "from pathlib import Path\n",
    "from datetime import datetime\n",
    "\n",
    "import numpy as np\n",
    "import pandas as pd\n",
    "import swifter\n",
    "import matplotlib.pyplot as plt\n",
    "import japanize_matplotlib\n",
    "import seaborn as sns\n",
    "from IPython.display import display\n",
    "from tqdm.notebook import tqdm\n",
    "from nptyping import NDArray, Shape, Int, Float\n",
    "from rich import print as rprint\n",
    "\n",
    "sns.set(font='IPAexGothic', style='whitegrid')\n",
    "colors = ['#de3838', '#007bc3', '#ffd12a']\n",
    "markers = ['o', 'x', ',']\n",
    "%config InlineBackend.figure_formats = ['svg']\n",
    "\n",
    "cmap = sns.diverging_palette(255, 0, as_cmap=True)  # カラーパレットの定義\n",
    "DATA_DIR = Path()/'..'/'..'/'data'\n",
    "DF_DIR = DATA_DIR/'dataframes'\n",
    "\n",
    "pd.set_option('display.max_rows', 500)\n",
    "pd.set_option('display.max_columns', 500)\n",
    "pd.set_option('display.width', 1000)"
   ]
  },
  {
   "cell_type": "code",
   "execution_count": 3,
   "metadata": {},
   "outputs": [
    {
     "name": "stderr",
     "output_type": "stream",
     "text": [
      "/var/folders/9f/gy5kzjbn1tg605r5394d47q00000gn/T/ipykernel_12998/289755118.py:7: SettingWithCopyWarning: \n",
      "A value is trying to be set on a copy of a slice from a DataFrame.\n",
      "Try using .loc[row_indexer,col_indexer] = value instead\n",
      "\n",
      "See the caveats in the documentation: https://pandas.pydata.org/pandas-docs/stable/user_guide/indexing.html#returning-a-view-versus-a-copy\n",
      "  X['Sex'] = np.where(X['Sex'] == 'Male', 0, 1)\n",
      "/Users/jo/GitHub/knock_da/.venv/lib/python3.9/site-packages/sklearn/base.py:450: UserWarning: X does not have valid feature names, but DecisionTreeClassifier was fitted with feature names\n",
      "  warnings.warn(\n"
     ]
    }
   ],
   "source": [
    "from sklearn import tree\n",
    "from dtreeviz.trees import dtreeviz\n",
    "\n",
    "df = pd.read_csv('train.csv')\n",
    "\n",
    "X = df[['Pclass', 'Sex']]\n",
    "X['Sex'] = np.where(X['Sex'] == 'Male', 0, 1)\n",
    "y = df['Survived']\n",
    "\n",
    "clf = tree.DecisionTreeClassifier(max_depth=2)\n",
    "clf.fit(X, y)\n",
    "\n",
    "viz = dtreeviz(clf, X, y, target_name='Survived', feature_names=X.columns, class_names=['dead', 'alive'])\n",
    "viz.save('tree.svg')\n",
    "\n"
   ]
  },
  {
   "cell_type": "code",
   "execution_count": null,
   "metadata": {},
   "outputs": [],
   "source": []
  }
 ],
 "metadata": {
  "kernelspec": {
   "display_name": "Python 3.9.13 ('.venv': poetry)",
   "language": "python",
   "name": "python3"
  },
  "language_info": {
   "codemirror_mode": {
    "name": "ipython",
    "version": 3
   },
   "file_extension": ".py",
   "mimetype": "text/x-python",
   "name": "python",
   "nbconvert_exporter": "python",
   "pygments_lexer": "ipython3",
   "version": "3.9.13"
  },
  "orig_nbformat": 4,
  "vscode": {
   "interpreter": {
    "hash": "bc34d559f1d87a2aa9176d3e5e6cd6e94ff1a4be12965b000eb0bcdef8ef481e"
   }
  }
 },
 "nbformat": 4,
 "nbformat_minor": 2
}
